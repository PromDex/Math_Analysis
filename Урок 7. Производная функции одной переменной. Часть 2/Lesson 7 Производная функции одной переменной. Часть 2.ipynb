{
 "cells": [
  {
   "cell_type": "markdown",
   "id": "2b552f8f-b857-41cd-bcd1-fd2d41e500c0",
   "metadata": {},
   "source": [
    "#### Курс \"Введение в математический анализ\"\n",
    "#### Урок 7. Производная функции одной переменной. Часть 2\n",
    "#### Тема 6 “Понятие о производной”\n",
    "#### Практическое задание к уроку 7"
   ]
  },
  {
   "cell_type": "markdown",
   "id": "1d98abbc-7380-464d-a62e-46d3b296d97b",
   "metadata": {},
   "source": [
    "1. Найти производные указанных функций\n",
    "\n",
    "$1)\\,\\,\\,y = −10 arctg x + 7 · e^x=-\\frac{10}{x^2+1}+7e^x$\n",
    "\n",
    "$2)\\,\\,\\,y =\\frac{1}{\\sqrt[3]{x^2}}-\\frac{2}{x^3}+\\sqrt{7}\\cdot x= \\frac{6}{x^4}-\\frac{2}{3x^{\\frac{5}{3}}}+\\sqrt{7}$\n",
    "\n",
    "$3)\\,\\,\\,y =cos\\frac{1-\\sqrt{x}}{1+\\sqrt{x}}=-\\sin \\left(\\frac{1-\\sqrt{x}}{1+\\sqrt{x}}\\right)\\left(\\frac{1-\\sqrt{x}}{1+\\sqrt{x}}\\right)=-\\sin \\left(\\frac{1-\\sqrt{x}}{1+\\sqrt{x}}\\right)\\left(-\\frac{1}{\\sqrt{x}\\left(\\sqrt{x}+1\\right)^2}\\right)=\\frac{\\sin \\left(\\frac{1-\\sqrt{x}}{1+\\sqrt{x}}\\right)}{\\sqrt{x}\\left(\\sqrt{x}+1\\right)^2}$\n",
    "\n",
    "$4)\\,\\,\\,y=ln\\frac{\\left(x+1\\right)\\left(x+3\\right)^3}{\\left(x+2\\right)^3\\left(x+4\\right)}=\\frac{1}{\\frac{\\left(x+1\\right)\\left(x+3\\right)^3}{\\left(x+2\\right)^3\\left(x+4\\right)}}\\frac{d}{dx}\\left(\\frac{\\left(x+1\\right)\\left(x+3\\right)^3}{\\left(x+2\\right)^3\\left(x+4\\right)}\\right)=\\frac{1}{\\frac{\\left(x+1\\right)\\left(x+3\\right)^3}{\\left(x+2\\right)^3\\left(x+4\\right)}}\\cdot \\frac{6\\left(x+3\\right)^2}{\\left(x+2\\right)^4\\left(x+4\\right)^2}=\\frac{6}{\\left(x+1\\right)\\left(x+3\\right)\\left(x+2\\right)\\left(x+4\\right)}$\n",
    "\n",
    "\n"
   ]
  },
  {
   "cell_type": "markdown",
   "id": "d16c832c-6fe2-4ff4-b5fd-e13e0ba116d2",
   "metadata": {},
   "source": [
    "2. Найти производную данной функции в точке:\n",
    "\n",
    "$y=\\frac{lnx}{x}, x_{\\left(0\\right)}=e$"
   ]
  },
  {
   "cell_type": "markdown",
   "id": "ceae4e8d-713f-463f-b4a5-02de52e33ed7",
   "metadata": {},
   "source": [
    "3. Используя логарифмическую производную, найти производную функции\n",
    "\n",
    "$y=x^{ln\\:x}=e^{\\ln \\left(x\\right)\\ln \\left(x\\right)}=e^{\\ln \\left(x\\right)\\ln \\left(x\\right)}\\left(\\ln \\left(x\\right)\\ln \\left(x\\right)\\right)=e^{\\ln \\left(x\\right)\\ln \\left(x\\right)}\\frac{2\\ln \\left(x\\right)}{x}=\\frac{2e^{\\ln ^2\\left(x\\right)}\\ln \\left(x\\right)}{x}$"
   ]
  },
  {
   "cell_type": "markdown",
   "id": "1c1895b5-2a21-4575-be96-099efb9e2dcf",
   "metadata": {},
   "source": [
    "4. Найти производную неявно заданной функции:\n",
    "\n",
    "$e^{xy}-cos\\left(x^2+y^2\\right)=0$\n",
    "\n",
    "$\\frac{dy}{dx}=-\\frac{e^{xy}y+2x\\sin \\left(x^2+y^2\\right)}{e^{xy}x+2y\\sin \\left(x^2+y^2\\right)}$"
   ]
  },
  {
   "cell_type": "markdown",
   "id": "1e56d3f9-a6c9-4e67-9fa8-989f81e9022e",
   "metadata": {},
   "source": [
    "5. Найти производную параметрически заданной функции:\n",
    "\n",
    "$x=t^3+t,\\:y=t^3+t+1$"
   ]
  }
 ],
 "metadata": {
  "kernelspec": {
   "display_name": "Python 3 (ipykernel)",
   "language": "python",
   "name": "python3"
  },
  "language_info": {
   "codemirror_mode": {
    "name": "ipython",
    "version": 3
   },
   "file_extension": ".py",
   "mimetype": "text/x-python",
   "name": "python",
   "nbconvert_exporter": "python",
   "pygments_lexer": "ipython3",
   "version": "3.9.15"
  }
 },
 "nbformat": 4,
 "nbformat_minor": 5
}
