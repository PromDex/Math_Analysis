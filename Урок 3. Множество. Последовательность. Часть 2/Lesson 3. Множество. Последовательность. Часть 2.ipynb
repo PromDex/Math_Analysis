{
 "cells": [
  {
   "cell_type": "markdown",
   "id": "88a117d1-dea8-418e-831c-813fc57d6950",
   "metadata": {},
   "source": [
    "### Урок 3. Множество. Последовательность. Часть 2"
   ]
  },
  {
   "cell_type": "markdown",
   "id": "19231fc5-3ca3-48e2-b8c7-e88f0bef7f73",
   "metadata": {},
   "source": [
    "**Задания к уроку No3**"
   ]
  },
  {
   "cell_type": "markdown",
   "id": "3851c76f-aaaa-4c6d-9c99-fc8d8010be8e",
   "metadata": {},
   "source": [
    "1) $${x_n} = n^{(−1)^n}$$\n",
    "\n",
    "Доказать, что последовательность ${x_n}$:\n",
    "\n",
    "а) неограниченная;\n",
    "\n",
    "$$\\{ n^{(−1)^n} \\} = 1,2,\\frac{1}{3},4,\\frac{1}{5},6,\\frac{1}{7},...$$\n",
    "\n",
    "при n=1 xn=1  \n",
    "при n=2 xn=2\\\n",
    "при n=3 xn=0.3\\\n",
    "при n=-1 xn=-1\\\n",
    "при n=-2 xn=-0.5\\\n",
    "$${x_n} > 0$$\n",
    "последовательность неограниченная  \n",
    "\n",
    "\n",
    "\n",
    "б) не является бесконечно большой.\n",
    "\n",
    "\n",
    "$$|{x_n}|>M$$\n",
    "\n",
    "\n",
    "является именно бесконечно большой.\n",
    "\n",
    "\n",
    "\n",
    "\n",
    "\n"
   ]
  },
  {
   "cell_type": "markdown",
   "id": "f0697f46-ce16-4438-9785-49e5c99cbff9",
   "metadata": {},
   "source": [
    "2) Доказать, что последовательность {sin n} расходится.\n",
    "\n",
    "метод от противного: предположим \n",
    "\n",
    "lim n→∞ {sin n} =  lim n→∞ (sin(n+1)-sin(n-1))=0\n",
    "\n",
    "\n",
    "при sin(a)-sin(b)=2cos((a+b)/2)*sin((a-b)/2)=0\n",
    "\n",
    "2cos(n)sin(1)=0\n",
    "\n",
    "cos(n)=0\n",
    "\n",
    "sin(2n)=0\n",
    "\n",
    "но из\n",
    "\n",
    "cos^2(n)+ sin^2(n)=1 и cos(n)→0  sin(n)→1 что противоречит первонач предп.\n"
   ]
  },
  {
   "cell_type": "markdown",
   "id": "3b289914-81ee-4659-bbbf-dee34dcd6eae",
   "metadata": {},
   "source": [
    "3) Найти пределы:\n",
    "\n",
    "а) limn→∞\n",
    "10n\n",
    "n2+1; \n",
    "\n",
    "$$\\lim_{x\\to \\infty} \\frac{10n}{n^2+1} = [\\frac{\\infty}{\\infty}] = \\frac{\\frac{10}{n}}{1 + \\frac{1}{n^2} } = 0$$\n",
    "\n",
    "\n",
    "\n",
    "\n",
    "б) limn→∞\n",
    "n\n",
    "2−n\n",
    "n−\n",
    "√\n",
    "n\n",
    "; \n",
    "\n",
    "$$\\lim_{x\\to \\infty} \\frac{n^2-n}{n-\\sqrt{n}} = \\frac{1 - \\frac{1}{n} }{\\frac{1}{n} - \\frac{\\sqrt{n}}{n^2}} = \\infty$$\n",
    "\n",
    "\n",
    "\n",
    "в) limn→∞\n",
    "5·3\n",
    "n\n",
    "3\n",
    "n−2\n",
    ".\n",
    "\n",
    "\n",
    "$$\\lim_{x\\to \\infty} \\frac{5*3n}{3n-2} = \\frac{15}{3 - \\frac{2}{n}} = \\frac{15}{3} = 5$$"
   ]
  },
  {
   "cell_type": "markdown",
   "id": "7140376b-7d73-4e8a-9796-9d9c2e5edf63",
   "metadata": {},
   "source": []
  },
  {
   "cell_type": "markdown",
   "id": "05646363-e97b-405d-b1bd-b9b069257e17",
   "metadata": {},
   "source": [
    "4) Найти предел\n",
    "\n",
    "limn→∞√n2 + n − n.\n"
   ]
  },
  {
   "cell_type": "markdown",
   "id": "57d8b331-8cce-4b7a-abe5-737d4feb54bb",
   "metadata": {},
   "source": [
    "$$\\lim_{n \\to \\infty}(\\sqrt{n^2+n}-n) = \\frac{(\\sqrt{n^2 + n} - n)(\\sqrt{n^2 + n} + n)}{\\sqrt{n^2 + n} + n} = \\frac{n^2 + n - n^2}{\\sqrt{n^2 + n} + n}  = \\frac{1}{\\frac{\\sqrt{n^2+n}+n}{n}} = \\infty$$"
   ]
  },
  {
   "cell_type": "markdown",
   "id": "4edbcfb6-5cc7-4532-ab4d-4968c69659a5",
   "metadata": {},
   "source": [
    "5) Вычислить\n",
    "\n",
    "limn→∞\n",
    "√\n",
    "n cos n\n",
    "n+1 ."
   ]
  },
  {
   "cell_type": "markdown",
   "id": "c3f791b6-0cd1-4df5-8697-b3f1462902c1",
   "metadata": {},
   "source": [
    "$$\\lim_{n \\to \\infty} \\frac{\\sqrt{n}\\cos{n}}{n+1} = \\frac{\\frac{\\sqrt{n}\\cos{n}}{n}}{1 + \\frac{n}{1}} = 0$$"
   ]
  }
 ],
 "metadata": {
  "kernelspec": {
   "display_name": "Python 3 (ipykernel)",
   "language": "python",
   "name": "python3"
  },
  "language_info": {
   "codemirror_mode": {
    "name": "ipython",
    "version": 3
   },
   "file_extension": ".py",
   "mimetype": "text/x-python",
   "name": "python",
   "nbconvert_exporter": "python",
   "pygments_lexer": "ipython3",
   "version": "3.9.15"
  }
 },
 "nbformat": 4,
 "nbformat_minor": 5
}
